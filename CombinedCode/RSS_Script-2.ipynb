{
 "cells": [
  {
   "cell_type": "code",
   "execution_count": 2,
   "metadata": {},
   "outputs": [],
   "source": [
    "import feedparser"
   ]
  },
  {
   "cell_type": "code",
   "execution_count": 3,
   "metadata": {},
   "outputs": [],
   "source": [
    "# RSS feed url\n",
    "url = 'http://www.dailymirror.lk/RSS_Feeds/breaking-news'\n",
    "feed = feedparser.parse(url)"
   ]
  },
  {
   "cell_type": "code",
   "execution_count": 4,
   "metadata": {},
   "outputs": [],
   "source": [
    "entries = feed['entries']\n",
    "no_entries = len(entries)"
   ]
  },
  {
   "cell_type": "code",
   "execution_count": 7,
   "metadata": {},
   "outputs": [],
   "source": [
    "from newspaper import Article"
   ]
  },
  {
   "cell_type": "code",
   "execution_count": 6,
   "metadata": {},
   "outputs": [],
   "source": [
    "articles = []"
   ]
  },
  {
   "cell_type": "code",
   "execution_count": 13,
   "metadata": {},
   "outputs": [],
   "source": [
    "for entry in entries:\n",
    "    url = entry['link']\n",
    "    article = Article(url)\n",
    "    article.download()\n",
    "    article.parse()\n",
    "    articles.append({\n",
    "        'Title': entry['title'],\n",
    "        'Date': entry['published'],\n",
    "        'Article_content': article.text,\n",
    "#         article.nlp()\n",
    "#         'Summary': article.summary,\n",
    "        'Summary': entry['summary'],\n",
    "        'Link': entry['link'],\n",
    "    })\n"
   ]
  },
  {
   "cell_type": "code",
   "execution_count": 9,
   "metadata": {},
   "outputs": [],
   "source": [
    "import re\n",
    "TAG_RE=re.compile(r'<[^>]+>')"
   ]
  },
  {
   "cell_type": "code",
   "execution_count": 10,
   "metadata": {},
   "outputs": [],
   "source": [
    "for article in articles:\n",
    "    summary = article['Summary']\n",
    "    pure_summary=TAG_RE.sub('',summary)\n",
    "    article['Summary']=pure_summary"
   ]
  },
  {
   "cell_type": "code",
   "execution_count": 11,
   "metadata": {},
   "outputs": [],
   "source": [
    "import csv\n",
    "with open('Test_dataset_content.csv',mode='w') as csv_file:\n",
    "    fieldnames=['Title','Date','Article_content','Summary','Link']\n",
    "    writer=csv.DictWriter(csv_file,fieldnames=fieldnames)\n",
    "\n",
    "    writer.writeheader()\n",
    "    for article in articles:\n",
    "        writer.writerow({'Title':article['Title'],'Date':article['Date'],'Article_content':article['Article_content'],'Summary':article['Summary'],'Link':article['Link']})\n"
   ]
  }
 ],
 "metadata": {
  "kernelspec": {
   "display_name": "Python 3",
   "language": "python",
   "name": "python3"
  },
  "language_info": {
   "codemirror_mode": {
    "name": "ipython",
    "version": 3
   },
   "file_extension": ".py",
   "mimetype": "text/x-python",
   "name": "python",
   "nbconvert_exporter": "python",
   "pygments_lexer": "ipython3",
   "version": "3.5.2"
  }
 },
 "nbformat": 4,
 "nbformat_minor": 2
}
