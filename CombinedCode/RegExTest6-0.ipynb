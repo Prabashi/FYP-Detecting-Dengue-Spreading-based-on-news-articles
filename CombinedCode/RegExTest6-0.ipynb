{
 "cells": [
  {
   "cell_type": "code",
   "execution_count": 1,
   "metadata": {},
   "outputs": [],
   "source": [
    "import re"
   ]
  },
  {
   "cell_type": "code",
   "execution_count": 2,
   "metadata": {},
   "outputs": [],
   "source": [
    "import pandas as pd"
   ]
  },
  {
   "cell_type": "code",
   "execution_count": 3,
   "metadata": {},
   "outputs": [],
   "source": [
    "import csv"
   ]
  },
  {
   "cell_type": "code",
   "execution_count": 4,
   "metadata": {},
   "outputs": [],
   "source": [
    "# read csv containing Dengue articles to a dataframe\n",
    "df = pd.read_csv('new_articles.csv')"
   ]
  },
  {
   "cell_type": "code",
   "execution_count": 5,
   "metadata": {},
   "outputs": [],
   "source": [
    "# Fill missing values\n",
    "df = df.fillna(\"\")"
   ]
  },
  {
   "cell_type": "code",
   "execution_count": 6,
   "metadata": {},
   "outputs": [
    {
     "name": "stdout",
     "output_type": "stream",
     "text": [
      "(30, 3)\n"
     ]
    }
   ],
   "source": [
    "print(df.shape)"
   ]
  },
  {
   "cell_type": "code",
   "execution_count": 7,
   "metadata": {},
   "outputs": [],
   "source": [
    "# drops duplicate entries\n",
    "df.drop_duplicates(subset=None, keep='first', inplace=True)"
   ]
  },
  {
   "cell_type": "code",
   "execution_count": 8,
   "metadata": {},
   "outputs": [
    {
     "name": "stdout",
     "output_type": "stream",
     "text": [
      "(30, 3)\n"
     ]
    }
   ],
   "source": [
    "print(df.shape)"
   ]
  },
  {
   "cell_type": "code",
   "execution_count": 9,
   "metadata": {},
   "outputs": [],
   "source": [
    "# Regex for publication date ####-##-##\n",
    "regex_for_publication_date = r\"\\d{4}-\\d{2}-\\d{2}\""
   ]
  },
  {
   "cell_type": "code",
   "execution_count": 10,
   "metadata": {},
   "outputs": [],
   "source": [
    "regex_for_numbers = re.compile(r'\\d+(?:(?:,|\\s|(?:,\\s)|(?:\\s,))\\d+)*');"
   ]
  },
  {
   "cell_type": "code",
   "execution_count": 11,
   "metadata": {},
   "outputs": [],
   "source": [
    "# a number following 'cases' or 'suspected dengue cases' or 'suspected cases'\n",
    "regex_for_cases = re.compile(r'\\d+(?:(?:,|\\s|(?:,\\s)|(?:\\s,))\\d+)*\\s*(?:dengue\\scases|dengue\\sfever\\scases|cases|suspected\\sdengue\\scases|suspected\\scases|suspected\\sdengue\\sfever\\scases)', re.IGNORECASE)"
   ]
  },
  {
   "cell_type": "code",
   "execution_count": 12,
   "metadata": {},
   "outputs": [],
   "source": [
    "# regex for deaths or patients(TODO move patients to no.of cases)\n",
    "regex_for_deaths = re.compile(r\"\"\"\n",
    "(?:(?:\\d+(?:(?:,|\\s|(?:,\\s)|(?:\\s,))\\d+)*)|\n",
    "(?:one|two|three|four|five|six|seven|eight|nine|ten|eleven|twelve|thirteen|fourteen|fifteen|sixteen|seventeen|eighteen|nineteen|\n",
    "(?:(?:(?:twenty|thirty|forty|fifty|sixty|seventy|eighty|ninety)\\s*)(?:one|two|three|four|five|six|seven|eight|nine)?)))\n",
    "\\s*\n",
    "(?:deaths|death|dead\\b|(?:people\\s*|patients\\s*)?(?:have\\s*|had\\s*)?(?:died|dead\\b)|patients|dengue\\srelated\\sdeath)\n",
    "\n",
    "\"\"\", re.VERBOSE | re.IGNORECASE)"
   ]
  },
  {
   "cell_type": "code",
   "execution_count": 13,
   "metadata": {},
   "outputs": [],
   "source": [
    "# regex to extract sentences having no. of cases/deaths\n",
    "# TODO handle for \"i.e\" \n",
    "regex_for_sentences = re.compile(r\"[^.]*?(?:\\d+(?:(?:,|\\s|(?:,\\s)|(?:\\s,))\\d+)*\\s*(?:dengue\\scases|dengue\\sfever\\scases|cases|suspected\\sdengue\\scases|suspected\\scases|suspected\\sdengue\\sfever\\scases)|(?:(?:(?:\\d+(?:(?:,|\\s|(?:,\\s)|(?:\\s,))\\d+)*)|(?:one|two|three|four|five|six|seven|eight|nine|ten|eleven|twelve|thirteen|fourteen|fifteen|sixteen|seventeen|eighteen|nineteen|(?:(?:(?:twenty|thirty|forty|fifty|sixty|seventy|eighty|ninety)\\s*)(?:one|two|three|four|five|six|seven|eight|nine)?)))\\s*(?:deaths|death|dead\\b|(?:people\\s*|patients\\s*)?(?:have\\s*|had\\s*)?(?:died|dead\\b)|patients|dengue\\srelated\\sdeath)))[^.]*\\.\")"
   ]
  },
  {
   "cell_type": "code",
   "execution_count": 14,
   "metadata": {},
   "outputs": [],
   "source": [
    "# regex for dates\n",
    "regex_for_dates = re.compile(r\"\"\"(?:\\d{4}(?:\\.|/|-)\\d{1,2}(?:\\.|/|-)\\d{1,2})|                                                                       # dates with format xxxx.xx.xx or xxxx/xx/xx or xxxx-xx-xx (month and date: 1 or 2 digits)\n",
    "(?:\\d{1,2}(?:\\.|/|-)\\d{1,2}(?:\\.|/|-)\\d{2,4})|                                                                                                      # dates with format xx.xx.xx where . or / or - used as the seperator, 1 or 2 digits for date or month, 2 or 4 digits for year\n",
    "(?:(?:Jan(?:uary)?|Feb(?:ruary)?|Mar(?:ch)?|April|May|June|July|Aug(?:ust)?|Sep(?:tember)?|Oct(?:ober)?|Nov(?:ember)?|Dec(?:ember)?)\\s*\\d{0,2})     # dates with format: month xx (date with 0-2 digits)\n",
    "\"\"\", re.VERBOSE)"
   ]
  },
  {
   "cell_type": "code",
   "execution_count": 15,
   "metadata": {},
   "outputs": [],
   "source": [
    "# regex_for_years 20xx\n",
    "regex_for_years = re.compile(r'\\b20(?:\\d{2}){1}\\b|this\\syear')"
   ]
  },
  {
   "cell_type": "code",
   "execution_count": 16,
   "metadata": {},
   "outputs": [],
   "source": [
    "# regex for months\n",
    "regex_for_months = re.compile(r'Jan(?:uary)?|Feb(?:ruary)?|Mar(?:ch)?|April|May|June|July|Aug(?:ust)?|Sep(?:tember)?|Oct(?:ober)?|Nov(?:ember)?|Dec(?:ember)')"
   ]
  },
  {
   "cell_type": "code",
   "execution_count": 17,
   "metadata": {},
   "outputs": [],
   "source": [
    "# regex for \"so far\"\n",
    "regex_for_so_far = re.compile(r'so\\sfar')"
   ]
  },
  {
   "cell_type": "code",
   "execution_count": 18,
   "metadata": {},
   "outputs": [],
   "source": [
    "# regex for districts\n",
    "regex_for_districts = re.compile(r'Jaffna|Kilinochchi|Mannar|Mullaitivu|Vavuniya|Puttalam|Kurunegala|Gampaha|Colombo|Kalutara|Anuradhapura|Polonnaruwa|Matale|Kandy|Nuwara\\sEliya|Kegalle|Ratnapura|Trincomalee|Trinco|Batticaloa|Ampara|Badulla|Monaragala|Hambantota|Matara|Galle', re.IGNORECASE)"
   ]
  },
  {
   "cell_type": "code",
   "execution_count": 19,
   "metadata": {},
   "outputs": [],
   "source": [
    "# regex for provinces\n",
    "regex_for_provinces = re.compile(r'Western|Central|Eastern|North\\sCentral|Northern|North\\sWestern|Sabaragamuwa|Southern|Uva')"
   ]
  },
  {
   "cell_type": "code",
   "execution_count": 20,
   "metadata": {},
   "outputs": [],
   "source": [
    "# regex for other places/locations\n",
    "regex_for_places = re.compile(r'Sri Lanka|island|country|countrywide|Meethotamulla|Negombo|Ratmalana|Dangolla|Elpitiya|Beliatte|Hatton|Marakolliya|Gampola|Kalubowila')"
   ]
  },
  {
   "cell_type": "code",
   "execution_count": null,
   "metadata": {},
   "outputs": [],
   "source": []
  },
  {
   "cell_type": "code",
   "execution_count": null,
   "metadata": {},
   "outputs": [],
   "source": []
  },
  {
   "cell_type": "code",
   "execution_count": 21,
   "metadata": {},
   "outputs": [],
   "source": [
    "def get_sentences(text):\n",
    "    return regex_for_sentences.findall(text)"
   ]
  },
  {
   "cell_type": "code",
   "execution_count": 22,
   "metadata": {},
   "outputs": [],
   "source": [
    "def get_published_date(text):\n",
    "    return re.search(regex_for_publication_date, text).group()"
   ]
  },
  {
   "cell_type": "code",
   "execution_count": 23,
   "metadata": {},
   "outputs": [],
   "source": [
    "def get_numbers(text):\n",
    "    return regex_for_numbers.findall(text)"
   ]
  },
  {
   "cell_type": "code",
   "execution_count": 24,
   "metadata": {},
   "outputs": [],
   "source": [
    "def get_cases(text):\n",
    "    return regex_for_cases.findall(text)"
   ]
  },
  {
   "cell_type": "code",
   "execution_count": 25,
   "metadata": {},
   "outputs": [],
   "source": [
    "def get_deaths(text):\n",
    "    return regex_for_deaths.findall(text)       "
   ]
  },
  {
   "cell_type": "code",
   "execution_count": 26,
   "metadata": {},
   "outputs": [],
   "source": [
    "def get_years(text):\n",
    "    return regex_for_years.findall(text)"
   ]
  },
  {
   "cell_type": "code",
   "execution_count": 27,
   "metadata": {},
   "outputs": [],
   "source": [
    "def get_months(text):\n",
    "    return regex_for_months.findall(text)"
   ]
  },
  {
   "cell_type": "code",
   "execution_count": 28,
   "metadata": {},
   "outputs": [],
   "source": [
    "def get_dates(text):\n",
    "    return regex_for_dates.findall(text)"
   ]
  },
  {
   "cell_type": "code",
   "execution_count": 29,
   "metadata": {},
   "outputs": [],
   "source": [
    "def get_so_far(text):\n",
    "    return regex_for_so_far.findall(text)"
   ]
  },
  {
   "cell_type": "code",
   "execution_count": 30,
   "metadata": {},
   "outputs": [],
   "source": [
    "def get_provinces(text):\n",
    "    return regex_for_provinces.findall(text)"
   ]
  },
  {
   "cell_type": "code",
   "execution_count": 31,
   "metadata": {},
   "outputs": [],
   "source": [
    "def get_districts(text):\n",
    "    return regex_for_districts.findall(text)"
   ]
  },
  {
   "cell_type": "code",
   "execution_count": 32,
   "metadata": {},
   "outputs": [],
   "source": [
    "def get_places(text):\n",
    "    return regex_for_places.findall(text)"
   ]
  },
  {
   "cell_type": "code",
   "execution_count": 33,
   "metadata": {},
   "outputs": [],
   "source": [
    "locations=[\"Meethotamulla\",\"Colombo\", \"kandy\",\"Anuradhapura\",\"Galle\",\"Matara\",\"Ratmalana\",\"Dangolla\",\"Badulla\",\"Elpitiya\",\"Beliatte\",\"Hatton\",\"Marakolliya\",\"Gampola\",\"Kalubowila\",\"Puttalam\",]"
   ]
  },
  {
   "cell_type": "code",
   "execution_count": 34,
   "metadata": {},
   "outputs": [],
   "source": [
    "articles=[]"
   ]
  },
  {
   "cell_type": "code",
   "execution_count": 35,
   "metadata": {},
   "outputs": [],
   "source": [
    "regex_for_sentences = re.compile(r\"[^.]*?(?:\\d+(?:(?:,|\\s|(?:,\\s)|(?:\\s,))\\d+)*\\s*(?:dengue|dengue\\scases|dengue\\sfever\\scases|cases|suspected\\sdengue\\scases|suspected\\scases|suspected\\sdengue\\sfever\\scases)|(?:(?:(?:\\d+(?:(?:,|\\s|(?:,\\s)|(?:\\s,))\\d+)*)|(?:one|two|three|four|five|six|seven|eight|nine|ten|eleven|twelve|thirteen|fourteen|fifteen|sixteen|seventeen|eighteen|nineteen|(?:(?:(?:twenty|thirty|forty|fifty|sixty|seventy|eighty|ninety)\\s*)(?:one|two|three|four|five|six|seven|eight|nine)?)))\\s*(?:deaths|death|dead\\b|(?:people\\s*|patients\\s*)?(?:have\\s*|had\\s*)?(?:died|dead\\b)|patients|dengue\\srelated\\sdeath)))[^.]*\\.\")"
   ]
  },
  {
   "cell_type": "code",
   "execution_count": 36,
   "metadata": {},
   "outputs": [],
   "source": [
    "regex_for_sentences1 = re.compile(r\"[^.]*?(?:\\d+(?:(?:,|\\s|(?:,\\s)|(?:\\s,))\\d+)*\\s*(?:dengue|cases|suspected\\sdengue\\scases|suspected\\scases)|(?:(?:(?:\\d+(?:(?:,|\\s|(?:,\\s)|(?:\\s,))\\d+)*)|(?:one|two|three|four|five|six|seven|eight|nine|ten|eleven|twelve|thirteen|fourteen|fifteen|sixteen|seventeen|eighteen|nineteen|(?:(?:(?:twenty|thirty|forty|fifty|sixty|seventy|eighty|ninety)\\s*)(?:one|two|three|four|five|six|seven|eight|nine)?)))\\s*(?:deaths|death|dead(?:people\\s*|patients\\s*)?(?:have\\s*|had\\s*)?(?:died|dead)|patients)))[^.]*\\.\")"
   ]
  },
  {
   "cell_type": "code",
   "execution_count": 38,
   "metadata": {
    "scrolled": true
   },
   "outputs": [
    {
     "name": "stdout",
     "output_type": "stream",
     "text": [
      "[]\n",
      "\n",
      "[]\n",
      "\n",
      "[]\n",
      "\n",
      "[]\n",
      "\n",
      "['� �She elaborated on the status of dengue in our country in contrast to the preceding years, she said, �dengue has reduced significantly, from�150,000 (January- September 2017) to 38000 cases this year ( January- September 2018).', '�� �Speaking of dengue management in hospitals in our country she said, �Usually in our country the fatality rate of dengue is very low, last year we had 186 000 dengue patients but 440 deaths.']\n",
      "\n",
      "[]\n",
      "\n",
      "[]\n",
      "\n",
      "[]\n",
      "\n",
      "[]\n",
      "\n",
      "[]\n",
      "\n",
      "[]\n",
      "\n",
      "[]\n",
      "\n",
      "[]\n",
      "\n",
      "[]\n",
      "\n",
      "[]\n",
      "\n",
      "[]\n",
      "\n",
      "['2% in 2007) and with 35,008 cases reported in 2009 with 346 deaths, according to the Epidemiology Unit of the Health Ministry.']\n",
      "\n",
      "[' In the year 2008 Sri Lanka reported the largest outbreak of leptospirosis with 7423 suspected cases and 204 deaths.', ' Subsequently, 4980 cases and 145 deaths were reported in 2009 and in 2010 the number of cases was 4553 with 121 dying.', ' Theshanthi Welivitiya said they had carried out plasma exchanges for more than 150 patients since 2016 with pulmonary haemorrhage and percentage of recovery was 70%.']\n",
      "\n",
      "[]\n",
      "\n",
      "[]\n",
      "\n",
      "[]\n",
      "\n",
      "[]\n",
      "\n",
      "[]\n",
      "\n",
      "[]\n",
      "\n",
      "[]\n",
      "\n",
      "[]\n",
      "\n",
      "[]\n",
      "\n",
      "['�Health authorities are making a rough assumption that the disease came with the touristsHospitals and ICU�s overflowing with patients�It�s reported that there have been 19 deaths so far of small children due to fever during the last 28 days, and 12 deaths from pneumonia in the Matara District General Hospital alone.', '� �When inquiring into the source of the disease and the strain of the virus he explained that the influenza epidemic commenced last November in US, causing almost 4000 deaths.']\n",
      "\n",
      "[]\n",
      "\n",
      "[]\n",
      "\n"
     ]
    }
   ],
   "source": [
    "for index, row in df.iterrows():\n",
    "    print(regex_for_sentences.findall(row['Article_Content']))\n",
    "#     print(\"*\")\n",
    "#     print(regex_for_sentences1.findall(row['Article_content']))\n",
    "    print()\n",
    "    "
   ]
  },
  {
   "cell_type": "code",
   "execution_count": 45,
   "metadata": {},
   "outputs": [
    {
     "name": "stdout",
     "output_type": "stream",
     "text": [
      "Index: 0\n",
      "Index: 1\n",
      "Index: 2\n",
      "Index: 3\n",
      "Index: 4\n",
      "� �She elaborated on the status of dengue in our country in contrast to the preceding years, she said, �dengue has reduced significantly, from�150,000 (January- September 2017) to 38000 cases this year ( January- September 2018).\n",
      "�� �Speaking of dengue management in hospitals in our country she said, �Usually in our country the fatality rate of dengue is very low, last year we had 186 000 dengue patients but 440 deaths.\n",
      "Index: 5\n",
      "Index: 6\n",
      "Index: 7\n",
      "Index: 8\n",
      "Index: 9\n",
      "Index: 10\n",
      "Index: 11\n",
      "Index: 12\n",
      "Index: 13\n",
      "Index: 14\n",
      "Index: 15\n",
      "Index: 16\n",
      "2% in 2007) and with 35,008 cases reported in 2009 with 346 deaths, according to the Epidemiology Unit of the Health Ministry.\n",
      "Index: 17\n",
      " In the year 2008 Sri Lanka reported the largest outbreak of leptospirosis with 7423 suspected cases and 204 deaths.\n",
      " Subsequently, 4980 cases and 145 deaths were reported in 2009 and in 2010 the number of cases was 4553 with 121 dying.\n",
      " Theshanthi Welivitiya said they had carried out plasma exchanges for more than 150 patients since 2016 with pulmonary haemorrhage and percentage of recovery was 70%.\n",
      "Index: 18\n",
      "Index: 19\n",
      "Index: 20\n",
      "Index: 21\n",
      "Index: 22\n",
      "Index: 23\n",
      "Index: 24\n",
      "Index: 25\n",
      "Index: 26\n",
      "Index: 27\n",
      "�Health authorities are making a rough assumption that the disease came with the touristsHospitals and ICU�s overflowing with patients�It�s reported that there have been 19 deaths so far of small children due to fever during the last 28 days, and 12 deaths from pneumonia in the Matara District General Hospital alone.\n",
      "� �When inquiring into the source of the disease and the strain of the virus he explained that the influenza epidemic commenced last November in US, causing almost 4000 deaths.\n",
      "Index: 28\n",
      "Index: 29\n"
     ]
    }
   ],
   "source": [
    "articles=[]\n",
    "for index, row in df.iterrows():\n",
    "    print(\"Index: \"+str(index))\n",
    "#     print(\"Publication date: \"+get_published_date(row['Date']))\n",
    "    sentences = get_sentences(row['Article_Content'])\n",
    "#     print(sentences)\n",
    "    for sentence in sentences:\n",
    "        print(sentence)\n",
    "#         get_data(sentence)\n",
    "        \n",
    "        articles.append({\n",
    "                'Index':str(index),\n",
    "                'Publication_date':get_published_date(row['Date']),\n",
    "                'Sentence':sentence.encode(\"utf-8\"),\n",
    "                'Numbers':get_numbers(sentence),\n",
    "                'Cases':get_cases(sentence),\n",
    "                'Deaths':get_deaths(sentence),\n",
    "                'Years':get_years(sentence),\n",
    "                'Months':get_months(sentence),\n",
    "                'Dates': get_dates(sentence),\n",
    "                'Time_duration':get_so_far(sentence),\n",
    "                'Provinces':get_provinces(sentence),\n",
    "                'Districts':get_districts(sentence),\n",
    "                'Places':get_places(sentence),\n",
    "            })\n",
    "        \n",
    "#     print()"
   ]
  },
  {
   "cell_type": "code",
   "execution_count": null,
   "metadata": {},
   "outputs": [],
   "source": []
  },
  {
   "cell_type": "code",
   "execution_count": 46,
   "metadata": {},
   "outputs": [],
   "source": [
    "# write data in the 'article' list to a csv\n",
    "with open('Regex_output_new.csv',mode='w') as csv_file:\n",
    "    fieldnames=['Index','Publication_date','Sentence','Numbers','Cases','Deaths','Years','Months','Dates','Time_duration','Provinces','Districts','Places']\n",
    "    writer=csv.DictWriter(csv_file,fieldnames=fieldnames)\n",
    "\n",
    "    writer.writeheader()\n",
    "    for article in articles:\n",
    "        writer.writerow({'Index':article['Index'],'Publication_date':article['Publication_date'],'Sentence':article['Sentence'],'Numbers':article['Numbers'],'Cases':article['Cases'],'Deaths':article['Deaths'],'Years':article['Years'],'Months':article['Months'],'Dates':article['Dates'],'Time_duration':article['Time_duration'],'Provinces':article['Provinces'],'Districts':article['Districts'],'Places':article['Places']})\n"
   ]
  },
  {
   "cell_type": "code",
   "execution_count": null,
   "metadata": {},
   "outputs": [],
   "source": []
  },
  {
   "cell_type": "code",
   "execution_count": 37,
   "metadata": {},
   "outputs": [],
   "source": [
    "# import re\n",
    "\n",
    "# locations=[\"Meethotamulla\",\"Colombo\", \"kandy\",\"Anuradhapura\",\"Galle\",\"Matara\",\"Ratmalana\",\"Dangolla\",\"Badulla\",\"Elpitiya\",\"Beliatte\",\"Hatton\",\"Marakolliya\",\"Gampola\",\"Kalubowila\",\"Puttalam\",]\n",
    "\n",
    "# import pandas as pd\n",
    "# import csv\n",
    "\n",
    "# df = pd.read_csv('TestDengueContent.csv')\n",
    "# df = df.fillna(\"\")\n",
    "# print(df.shape)\n",
    "\n",
    "# for index, row in df.iterrows():\n",
    "#         for line in (row):\n",
    "#             i=0\n",
    "#             while i<len(locations):\n",
    "#                 if locations[i] in line:\n",
    "#                     print(locations[i])\n",
    "#                 i+=1\n",
    "\n",
    "# # for index, row in df.iterrows():\n",
    "# #         for line in (row):\n",
    "# #             for location in locations:\n",
    "# #                 if location in line:\n",
    "# #                     print(location)\n"
   ]
  },
  {
   "cell_type": "code",
   "execution_count": 40,
   "metadata": {},
   "outputs": [],
   "source": [
    "import nltk"
   ]
  },
  {
   "cell_type": "code",
   "execution_count": 41,
   "metadata": {},
   "outputs": [],
   "source": [
    "from nltk.tokenize import sent_tokenize, word_tokenize"
   ]
  },
  {
   "cell_type": "code",
   "execution_count": 42,
   "metadata": {},
   "outputs": [],
   "source": [
    "data = \"Contamination of the food chain and waterways continue to pose serious public health risks in many countries including Sri Lanka.\t\tMoreover, the spread of unhealthy food habits, often propagated by big multinationals, has become a public health menace not just in developing countries but in the most developed parts of the world as well, i.e. America, Europe, Australasia and elsewhere.Recognizing the wider background to growing public health risks in different parts of the world, the WHO commissioned and publishedï¿½ several years ago a well-articulated report on Social Determinants of Health (SDH) . But 12.4 percent people died. \"\n"
   ]
  },
  {
   "cell_type": "code",
   "execution_count": 43,
   "metadata": {},
   "outputs": [
    {
     "name": "stdout",
     "output_type": "stream",
     "text": [
      "['Contamination of the food chain and waterways continue to pose serious public health risks in many countries including Sri Lanka.', 'Moreover, the spread of unhealthy food habits, often propagated by big multinationals, has become a public health menace not just in developing countries but in the most developed parts of the world as well, i.e.', 'America, Europe, Australasia and elsewhere.Recognizing the wider background to growing public health risks in different parts of the world, the WHO commissioned and publishedï¿½ several years ago a well-articulated report on Social Determinants of Health (SDH) .', 'But 12.4 percent people died.']\n"
     ]
    }
   ],
   "source": [
    "print(sent_tokenize(data))"
   ]
  },
  {
   "cell_type": "code",
   "execution_count": null,
   "metadata": {},
   "outputs": [],
   "source": []
  }
 ],
 "metadata": {
  "kernelspec": {
   "display_name": "Python 3",
   "language": "python",
   "name": "python3"
  },
  "language_info": {
   "codemirror_mode": {
    "name": "ipython",
    "version": 3
   },
   "file_extension": ".py",
   "mimetype": "text/x-python",
   "name": "python",
   "nbconvert_exporter": "python",
   "pygments_lexer": "ipython3",
   "version": "3.5.2"
  }
 },
 "nbformat": 4,
 "nbformat_minor": 2
}
